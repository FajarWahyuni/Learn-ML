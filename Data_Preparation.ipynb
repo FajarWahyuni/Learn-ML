{
  "nbformat": 4,
  "nbformat_minor": 0,
  "metadata": {
    "colab": {
      "provenance": [],
      "authorship_tag": "ABX9TyPTh7MdddE9sHXc/3U7dSvf",
      "include_colab_link": true
    },
    "kernelspec": {
      "name": "python3",
      "display_name": "Python 3"
    },
    "language_info": {
      "name": "python"
    }
  },
  "cells": [
    {
      "cell_type": "markdown",
      "metadata": {
        "id": "view-in-github",
        "colab_type": "text"
      },
      "source": [
        "<a href=\"https://colab.research.google.com/github/FajarWahyuni/Learn-ML/blob/main/Data_Preparation.ipynb\" target=\"_parent\"><img src=\"https://colab.research.google.com/assets/colab-badge.svg\" alt=\"Open In Colab\"/></a>"
      ]
    },
    {
      "cell_type": "code",
      "execution_count": 10,
      "metadata": {
        "id": "3HcEqxmstt1y"
      },
      "outputs": [],
      "source": [
        "# Step 1. Importing the useful packages\n",
        "import numpy as np\n",
        "from sklearn import preprocessing\n"
      ]
    },
    {
      "cell_type": "markdown",
      "source": [
        "* Numpy : general purpose array-processing package designed to efficiently manipulate large multi-dimensional arrays of arbitrary records without sacrificing too much speed for small multi-dimensional arrays.\n",
        "* Sklearn.preprocessing : provides many common utility functions and tranformer classes to change raw feature vectors into a representation that is more suitable for ml algorithms."
      ],
      "metadata": {
        "id": "tbyQvTpVmdiy"
      }
    },
    {
      "cell_type": "code",
      "source": [
        "# Step 2. Defining sample data\n",
        "input_data = np.array([\n",
        "    [2.1, -1.9, 5.5],\n",
        "    [-1.5, 2.4, 3.5],\n",
        "    [0.5, -7.9, 5.6],\n",
        "    [5.9, 2.3, -5.8]\n",
        "])"
      ],
      "metadata": {
        "id": "0yldTcFLuRV8"
      },
      "execution_count": 6,
      "outputs": []
    },
    {
      "cell_type": "code",
      "source": [
        "# Step 3. Applying preprocessing technique"
      ],
      "metadata": {
        "id": "yflku5qznsQU"
      },
      "execution_count": null,
      "outputs": []
    },
    {
      "cell_type": "markdown",
      "source": [
        "Teknik untuk data preprocessing diantaranya:\n",
        "1. Binarization : digunakan ketika kita ingin convert data numerical values into Boolean values."
      ],
      "metadata": {
        "id": "FP8MJ7-WoJUt"
      }
    },
    {
      "cell_type": "code",
      "source": [
        "# Binarization\n",
        "data_binarized = preprocessing.Binarizer(threshold = 0.5).transform(input_data)"
      ],
      "metadata": {
        "id": "M5i6gMmqoWcF"
      },
      "execution_count": 11,
      "outputs": []
    },
    {
      "cell_type": "code",
      "source": [
        "print(\"\\nBinarized Data:\\n\", data_binarized)"
      ],
      "metadata": {
        "colab": {
          "base_uri": "https://localhost:8080/"
        },
        "id": "ys8RjsAlohk5",
        "outputId": "8832c838-5e2d-4fdf-9af8-fce279e1ab51"
      },
      "execution_count": 12,
      "outputs": [
        {
          "output_type": "stream",
          "name": "stdout",
          "text": [
            "\n",
            "Binarized Data:\n",
            " [[1. 0. 1.]\n",
            " [0. 1. 1.]\n",
            " [0. 0. 1.]\n",
            " [1. 1. 0.]]\n"
          ]
        }
      ]
    },
    {
      "cell_type": "markdown",
      "source": [
        "Seluruh nilai yang di atas 0.5 akan bernilai 1, sedangkan nilai dibawah 0.5 dikonversi menjadi 0."
      ],
      "metadata": {
        "id": "Y5Y1W383pWjk"
      }
    },
    {
      "cell_type": "code",
      "source": [
        "# Mean Removal\n",
        "# Basically it is used to eliminate the mean from feature vector so that every feature is centered on zero.\n",
        "# We can also remove the bias from the features in the feature vector.\n",
        "print(\"Mean =\", input_data.mean(axis = 0))\n",
        "print(\"STD =\", input_data.std(axis = 0))"
      ],
      "metadata": {
        "colab": {
          "base_uri": "https://localhost:8080/"
        },
        "id": "YfwwlFs6pUJE",
        "outputId": "8413bfdb-ffe6-404f-e391-b88d14a8b6d0"
      },
      "execution_count": 13,
      "outputs": [
        {
          "output_type": "stream",
          "name": "stdout",
          "text": [
            "Mean = [ 1.75  -1.275  2.2  ]\n",
            "STD = [2.71431391 4.20022321 4.69414529]\n"
          ]
        }
      ]
    },
    {
      "cell_type": "markdown",
      "source": [
        "Selanjutnya kode berikut akan menghapus rata-rata dan std dari input_data"
      ],
      "metadata": {
        "id": "ZM8jmYBlqhCY"
      }
    },
    {
      "cell_type": "code",
      "source": [
        "data_scaled = preprocessing.scale(input_data)\n",
        "print(\"Mean =\", data_scaled.mean(axis = 0))\n",
        "print(\"STD =\", data_scaled.std(axis = 0))"
      ],
      "metadata": {
        "colab": {
          "base_uri": "https://localhost:8080/"
        },
        "id": "AugvTP7uqc5o",
        "outputId": "8de8dbce-dae3-4f3c-a5ea-5e5802162e5c"
      },
      "execution_count": 15,
      "outputs": [
        {
          "output_type": "stream",
          "name": "stdout",
          "text": [
            "Mean = [1.11022302e-16 0.00000000e+00 0.00000000e+00]\n",
            "STD = [1. 1. 1.]\n"
          ]
        }
      ]
    },
    {
      "cell_type": "code",
      "source": [
        "# Scalling\n",
        "# it is used to scale the feature vectors\n",
        "# it is needed bcs the values of every feature can vary between many random values.\n",
        "# soo scaling is important bcs we do not want any feature to be synthetically large or small.\n",
        "## MinMaxScalling\n",
        "data_scaler_minmax = preprocessing.MinMaxScaler(feature_range=(0,1))\n",
        "data_scaled_minmax = data_scaler_minmax.fit_transform(input_data)\n",
        "print (\"\\nMin max scaled data:\\n\", data_scaled_minmax)"
      ],
      "metadata": {
        "colab": {
          "base_uri": "https://localhost:8080/"
        },
        "id": "MIzCVRkPqvTU",
        "outputId": "783fff76-61c0-47ef-a761-9ba0550fdec8"
      },
      "execution_count": 16,
      "outputs": [
        {
          "output_type": "stream",
          "name": "stdout",
          "text": [
            "\n",
            "Min max scaled data:\n",
            " [[0.48648649 0.58252427 0.99122807]\n",
            " [0.         1.         0.81578947]\n",
            " [0.27027027 0.         1.        ]\n",
            " [1.         0.99029126 0.        ]]\n"
          ]
        }
      ]
    },
    {
      "cell_type": "code",
      "source": [
        "# Normalization\n",
        "## L1 Normalization\n",
        "## It is also referred to Least Absolute Deviations. modify the values so that the sum of the absolute values always up to 1 in each row.\n",
        "normalized_data_l1 = preprocessing.normalize(input_data, norm = 'l1')\n",
        "print(\"\\nL1 normalized data :\\n\", normalized_data_l1)"
      ],
      "metadata": {
        "colab": {
          "base_uri": "https://localhost:8080/"
        },
        "id": "O_NDEsaVraVc",
        "outputId": "1e2e156b-637c-48f0-c1ce-daf2f343d7d4"
      },
      "execution_count": 17,
      "outputs": [
        {
          "output_type": "stream",
          "name": "stdout",
          "text": [
            "\n",
            "L1 normalized data :\n",
            " [[ 0.22105263 -0.2         0.57894737]\n",
            " [-0.2027027   0.32432432  0.47297297]\n",
            " [ 0.03571429 -0.56428571  0.4       ]\n",
            " [ 0.42142857  0.16428571 -0.41428571]]\n"
          ]
        }
      ]
    },
    {
      "cell_type": "code",
      "source": [
        "## L2 Normalization\n",
        "## Referred to as least squares, modify the values so that the sum of the squares is always up to 1 in each row.\n",
        "normalized_data_l2 = preprocessing.normalize(input_data, norm = 'l2')\n",
        "print(\"\\nL1 normalized data :\\n\", normalized_data_l2)"
      ],
      "metadata": {
        "colab": {
          "base_uri": "https://localhost:8080/"
        },
        "id": "d7KkBhf9sFdw",
        "outputId": "dd3440c1-b114-47ee-95c6-313cc694010c"
      },
      "execution_count": 18,
      "outputs": [
        {
          "output_type": "stream",
          "name": "stdout",
          "text": [
            "\n",
            "L1 normalized data :\n",
            " [[ 0.33946114 -0.30713151  0.88906489]\n",
            " [-0.33325106  0.53320169  0.7775858 ]\n",
            " [ 0.05156558 -0.81473612  0.57753446]\n",
            " [ 0.68706914  0.26784051 -0.6754239 ]]\n"
          ]
        }
      ]
    },
    {
      "cell_type": "code",
      "source": [
        "# Labelling Data\n",
        "## Label encoding steps\n",
        "### 1. Import packages (sama kaya yang atas ko)\n",
        "from sklearn.preprocessing import LabelEncoder\n",
        "### 2. Defining sample\n",
        "input_labels = ['red', 'green', 'black', 'red', 'yellow', 'white']"
      ],
      "metadata": {
        "id": "WgwN-CZZsYPC"
      },
      "execution_count": 23,
      "outputs": []
    },
    {
      "cell_type": "code",
      "source": [
        "### 3. Creating and training of label encoder objects\n",
        "Encoder = preprocessing.LabelEncoder()\n",
        "Encoder.fit(input_labels)"
      ],
      "metadata": {
        "colab": {
          "base_uri": "https://localhost:8080/",
          "height": 75
        },
        "id": "WplhdJHn7Iup",
        "outputId": "f0703495-c579-4c35-c2d0-f14c0a08902c"
      },
      "execution_count": 26,
      "outputs": [
        {
          "output_type": "execute_result",
          "data": {
            "text/plain": [
              "LabelEncoder()"
            ],
            "text/html": [
              "<style>#sk-container-id-1 {color: black;background-color: white;}#sk-container-id-1 pre{padding: 0;}#sk-container-id-1 div.sk-toggleable {background-color: white;}#sk-container-id-1 label.sk-toggleable__label {cursor: pointer;display: block;width: 100%;margin-bottom: 0;padding: 0.3em;box-sizing: border-box;text-align: center;}#sk-container-id-1 label.sk-toggleable__label-arrow:before {content: \"▸\";float: left;margin-right: 0.25em;color: #696969;}#sk-container-id-1 label.sk-toggleable__label-arrow:hover:before {color: black;}#sk-container-id-1 div.sk-estimator:hover label.sk-toggleable__label-arrow:before {color: black;}#sk-container-id-1 div.sk-toggleable__content {max-height: 0;max-width: 0;overflow: hidden;text-align: left;background-color: #f0f8ff;}#sk-container-id-1 div.sk-toggleable__content pre {margin: 0.2em;color: black;border-radius: 0.25em;background-color: #f0f8ff;}#sk-container-id-1 input.sk-toggleable__control:checked~div.sk-toggleable__content {max-height: 200px;max-width: 100%;overflow: auto;}#sk-container-id-1 input.sk-toggleable__control:checked~label.sk-toggleable__label-arrow:before {content: \"▾\";}#sk-container-id-1 div.sk-estimator input.sk-toggleable__control:checked~label.sk-toggleable__label {background-color: #d4ebff;}#sk-container-id-1 div.sk-label input.sk-toggleable__control:checked~label.sk-toggleable__label {background-color: #d4ebff;}#sk-container-id-1 input.sk-hidden--visually {border: 0;clip: rect(1px 1px 1px 1px);clip: rect(1px, 1px, 1px, 1px);height: 1px;margin: -1px;overflow: hidden;padding: 0;position: absolute;width: 1px;}#sk-container-id-1 div.sk-estimator {font-family: monospace;background-color: #f0f8ff;border: 1px dotted black;border-radius: 0.25em;box-sizing: border-box;margin-bottom: 0.5em;}#sk-container-id-1 div.sk-estimator:hover {background-color: #d4ebff;}#sk-container-id-1 div.sk-parallel-item::after {content: \"\";width: 100%;border-bottom: 1px solid gray;flex-grow: 1;}#sk-container-id-1 div.sk-label:hover label.sk-toggleable__label {background-color: #d4ebff;}#sk-container-id-1 div.sk-serial::before {content: \"\";position: absolute;border-left: 1px solid gray;box-sizing: border-box;top: 0;bottom: 0;left: 50%;z-index: 0;}#sk-container-id-1 div.sk-serial {display: flex;flex-direction: column;align-items: center;background-color: white;padding-right: 0.2em;padding-left: 0.2em;position: relative;}#sk-container-id-1 div.sk-item {position: relative;z-index: 1;}#sk-container-id-1 div.sk-parallel {display: flex;align-items: stretch;justify-content: center;background-color: white;position: relative;}#sk-container-id-1 div.sk-item::before, #sk-container-id-1 div.sk-parallel-item::before {content: \"\";position: absolute;border-left: 1px solid gray;box-sizing: border-box;top: 0;bottom: 0;left: 50%;z-index: -1;}#sk-container-id-1 div.sk-parallel-item {display: flex;flex-direction: column;z-index: 1;position: relative;background-color: white;}#sk-container-id-1 div.sk-parallel-item:first-child::after {align-self: flex-end;width: 50%;}#sk-container-id-1 div.sk-parallel-item:last-child::after {align-self: flex-start;width: 50%;}#sk-container-id-1 div.sk-parallel-item:only-child::after {width: 0;}#sk-container-id-1 div.sk-dashed-wrapped {border: 1px dashed gray;margin: 0 0.4em 0.5em 0.4em;box-sizing: border-box;padding-bottom: 0.4em;background-color: white;}#sk-container-id-1 div.sk-label label {font-family: monospace;font-weight: bold;display: inline-block;line-height: 1.2em;}#sk-container-id-1 div.sk-label-container {text-align: center;}#sk-container-id-1 div.sk-container {/* jupyter's `normalize.less` sets `[hidden] { display: none; }` but bootstrap.min.css set `[hidden] { display: none !important; }` so we also need the `!important` here to be able to override the default hidden behavior on the sphinx rendered scikit-learn.org. See: https://github.com/scikit-learn/scikit-learn/issues/21755 */display: inline-block !important;position: relative;}#sk-container-id-1 div.sk-text-repr-fallback {display: none;}</style><div id=\"sk-container-id-1\" class=\"sk-top-container\"><div class=\"sk-text-repr-fallback\"><pre>LabelEncoder()</pre><b>In a Jupyter environment, please rerun this cell to show the HTML representation or trust the notebook. <br />On GitHub, the HTML representation is unable to render, please try loading this page with nbviewer.org.</b></div><div class=\"sk-container\" hidden><div class=\"sk-item\"><div class=\"sk-estimator sk-toggleable\"><input class=\"sk-toggleable__control sk-hidden--visually\" id=\"sk-estimator-id-1\" type=\"checkbox\" checked><label for=\"sk-estimator-id-1\" class=\"sk-toggleable__label sk-toggleable__label-arrow\">LabelEncoder</label><div class=\"sk-toggleable__content\"><pre>LabelEncoder()</pre></div></div></div></div></div>"
            ]
          },
          "metadata": {},
          "execution_count": 26
        }
      ]
    },
    {
      "cell_type": "code",
      "source": [
        "### 4. Checking the performance by encoding random ordered list\n",
        "test_labels = ['green', 'red', 'black']\n",
        "encoded_values = Encoder.transform(test_labels)\n",
        "print(\"\\nLabels =\", test_labels)"
      ],
      "metadata": {
        "colab": {
          "base_uri": "https://localhost:8080/"
        },
        "id": "FDpH7Nsd7WzG",
        "outputId": "4518dbf1-ddb5-4f26-c1ae-fd568d191d53"
      },
      "execution_count": 27,
      "outputs": [
        {
          "output_type": "stream",
          "name": "stdout",
          "text": [
            "\n",
            "Labels = ['green', 'red', 'black']\n"
          ]
        }
      ]
    },
    {
      "cell_type": "code",
      "source": [
        "print(\"Encoded values = \", list(encoded_values))"
      ],
      "metadata": {
        "colab": {
          "base_uri": "https://localhost:8080/"
        },
        "id": "6w7oNDmC8Gww",
        "outputId": "2d3e7c17-b2d5-43d2-dd9e-1c93e4e18099"
      },
      "execution_count": 28,
      "outputs": [
        {
          "output_type": "stream",
          "name": "stdout",
          "text": [
            "Encoded values =  [1, 2, 0]\n"
          ]
        }
      ]
    },
    {
      "cell_type": "code",
      "source": [
        "### 5. Checking the performance by decoding a random set of numbers\n",
        "encoded_values = [3,0,4,1]\n",
        "decoded_list = Encoder.inverse_transform(encoded_values)\n",
        "print(\"\\nEncoded Values =\", encoded_values)"
      ],
      "metadata": {
        "colab": {
          "base_uri": "https://localhost:8080/"
        },
        "id": "czEfGmWF8Nm3",
        "outputId": "ae5a2b2d-8e05-4b9c-a054-d1238a0618ee"
      },
      "execution_count": 29,
      "outputs": [
        {
          "output_type": "stream",
          "name": "stdout",
          "text": [
            "\n",
            "Encoded Values = [3, 0, 4, 1]\n"
          ]
        }
      ]
    },
    {
      "cell_type": "code",
      "source": [
        "print(\"Decoded Labels = \", list(decoded_list))"
      ],
      "metadata": {
        "colab": {
          "base_uri": "https://localhost:8080/"
        },
        "id": "YgGgCLM58j3M",
        "outputId": "eb58b54d-9bce-464c-d9ed-6a04fce13ccd"
      },
      "execution_count": 30,
      "outputs": [
        {
          "output_type": "stream",
          "name": "stdout",
          "text": [
            "Decoded Labels =  ['white', 'black', 'yellow', 'green']\n"
          ]
        }
      ]
    },
    {
      "cell_type": "code",
      "source": [],
      "metadata": {
        "id": "0vfzHErvAIIQ"
      },
      "execution_count": null,
      "outputs": []
    }
  ]
}