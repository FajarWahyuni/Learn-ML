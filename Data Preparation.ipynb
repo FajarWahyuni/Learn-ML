# Step 1. Importing the useful packages
import numpy as np
from sklearn import preprocessing
# Step 2. Defining sample data
input_data = np.array([
    [2.1, -1.9, 5.5],
    [-1.5, 2.4, 3.5],
    [0.5, -7.9, 5.6],
    [5.9, 2.3, -5.8]
])
# Step 3. Applying preprocessing technique
Teknik untuk data preprocessing diantaranya:

Binarization : digunakan ketika kita ingin convert data numerical values into Boolean values.
# Binarization
data_binarized = preprocessing.Binarizer(threshold = 0.5).transform(input_data)
print("\nBinarized Data:\n", data_binarized)
Seluruh nilai yang di atas 0.5 akan bernilai 1, sedangkan nilai dibawah 0.5 dikonversi menjadi 0.
# Mean Removal
# Basically it is used to eliminate the mean from feature vector so that every feature is centered on zero.
# We can also remove the bias from the features in the feature vector.
print("Mean =", input_data.mean(axis = 0))
print("STD =", input_data.std(axis = 0))
Selanjutnya kode berikut akan menghapus rata-rata dan std dari input_data
data_scaled = preprocessing.scale(input_data)
print("Mean =", data_scaled.mean(axis = 0))
print("STD =", data_scaled.std(axis = 0))

# Scalling
# it is used to scale the feature vectors
# it is needed bcs the values of every feature can vary between many random values.
# soo scaling is important bcs we do not want any feature to be synthetically large or small.
## MinMaxScalling
data_scaler_minmax = preprocessing.MinMaxScaler(feature_range=(0,1))
data_scaled_minmax = data_scaler_minmax.fit_transform(input_data)
print ("\nMin max scaled data:\n", data_scaled_minmax)


# Normalization
## L1 Normalization
## It is also referred to Least Absolute Deviations. modify the values so that the sum of the absolute values always up to 1 in each row.
normalized_data_l1 = preprocessing.normalize(input_data, norm = 'l1')
print("\nL1 normalized data :\n", normalized_data_l1)

## L2 Normalization
## Referred to as least squares, modify the values so that the sum of the squares is always up to 1 in each row.
normalized_data_l2 = preprocessing.normalize(input_data, norm = 'l2')
print("\nL1 normalized data :\n", normalized_data_l2)

# Labelling Data
## Label encoding steps
### 1. Import packages (sama kaya yang atas ko)
from sklearn.preprocessing import LabelEncoder
### 2. Defining sample 
input_labels = ['red', 'green', 'black', 'red', 'yellow', 'white']

### 3. Creating and training of label encoder objects
Encoder = preprocessing.LabelEncoder()
Encoder.fit(input_labels)

### 4. Checking the performance by encoding random ordered list
test_labels = ['green', 'red', 'black']
encoded_values = Encoder.transform(test_labels)
print("\nLabels =", test_labels)

print("Encoded values = ", list(encoded_values))

### 5. Checking the performance by decoding a random set of numbers
encoded_values = [3,0,4,1]
decoded_list = Encoder.inverse_transform(encoded_values)
print("\nEncoded Values =", encoded_values)

print("Decoded Labels = ", list(decoded_list))
